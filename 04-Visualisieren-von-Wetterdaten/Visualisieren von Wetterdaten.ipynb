{
 "cells": [
  {
   "cell_type": "markdown",
   "id": "brazilian-alberta",
   "metadata": {},
   "source": [
    "# Visualisieren von Wetterdaten"
   ]
  },
  {
   "cell_type": "code",
   "execution_count": null,
   "id": "palestinian-robin",
   "metadata": {},
   "outputs": [],
   "source": [
    "import pandas as pd\n",
    "import matplotlib.pyplot as plt"
   ]
  },
  {
   "cell_type": "markdown",
   "id": "flush-twist",
   "metadata": {},
   "source": [
    "Die Wetterdaten stammen von https://meteostat.net/de/station/10147 und werden unter der\n",
    "[Creative Commons Attribution-NonCommercial 4.0 International Public License](https://creativecommons.org/licenses/by-nc/4.0/legalcode)\n",
    "verteilt.\n",
    "Zur Interpretation der Daten gibt es eine Erläuterung\n",
    "[von Meteostat](https://dev.meteostat.net/docs/formats.html)."
   ]
  },
  {
   "cell_type": "markdown",
   "id": "according-transcription",
   "metadata": {},
   "source": [
    "Lade die CSV-Datei:"
   ]
  },
  {
   "cell_type": "code",
   "execution_count": null,
   "id": "official-arthritis",
   "metadata": {},
   "outputs": [],
   "source": [
    "df = pd.read_csv(\"meteostat-10147.csv\", parse_dates=[\"time\", \"time_local\"], index_col=[\"time_local\"])\n",
    "df"
   ]
  },
  {
   "cell_type": "markdown",
   "id": "incomplete-oracle",
   "metadata": {},
   "source": [
    "Plotte den Luftdruck über die Zeit."
   ]
  },
  {
   "cell_type": "code",
   "execution_count": null,
   "id": "heated-wyoming",
   "metadata": {},
   "outputs": [],
   "source": [
    "df.pres.plot()\n",
    "plt.ylabel(\"Luftdruck (in hPa)\")\n",
    "plt.xlabel(\"Zeit\")\n",
    "plt.show()"
   ]
  },
  {
   "cell_type": "markdown",
   "id": "annual-reply",
   "metadata": {},
   "source": [
    "Plotte die Verteilung des Luftdrucks ohne Berücksichtigung der zeitlichen Komponente als Boxplot."
   ]
  },
  {
   "cell_type": "code",
   "execution_count": null,
   "id": "continental-employer",
   "metadata": {},
   "outputs": [],
   "source": [
    "df.pres.plot.box()\n",
    "plt.ylabel(\"Luftdruck (in hPa)\")\n",
    "plt.show()"
   ]
  },
  {
   "cell_type": "markdown",
   "id": "quarterly-payday",
   "metadata": {},
   "source": [
    "Plotte die Temperatur über die Zeit."
   ]
  },
  {
   "cell_type": "code",
   "execution_count": null,
   "id": "green-copper",
   "metadata": {},
   "outputs": [],
   "source": [
    "df.temp.plot()\n",
    "plt.ylabel(\"Temperatur (in °C)\")\n",
    "plt.xlabel(\"Zeit\")\n",
    "plt.show()"
   ]
  },
  {
   "cell_type": "markdown",
   "id": "compound-bumper",
   "metadata": {},
   "source": [
    "Plotte die Verteilung der Temperatur ohne Berücksichtigung der zeitlichen Komponente sowohl als Histogramm als auch als Dichteplot."
   ]
  },
  {
   "cell_type": "code",
   "execution_count": null,
   "id": "verified-density",
   "metadata": {},
   "outputs": [],
   "source": [
    "ax = df.temp.plot.hist()                         # Lege Variable mit Abbildung an\n",
    "ax2 = df.temp.plot.kde(ax=ax, secondary_y=True)  # Mit `ax=ax` wird die existierende Abbildung erweitert\n",
    "                                                 # Mit `secondary_y=True` wird die zweite Y-Achse rechts gezeichnet.\n",
    "ax.set_ylabel(\"Anzahl\")\n",
    "ax2.set_ylabel(\"Kerndichteschätzung\")\n",
    "plt.show()"
   ]
  },
  {
   "cell_type": "markdown",
   "id": "terminal-parade",
   "metadata": {},
   "source": [
    "Plotte alle Tagesverläufe - je Stunde liegt genau ein Wert vor."
   ]
  },
  {
   "cell_type": "code",
   "execution_count": null,
   "id": "cutting-circumstances",
   "metadata": {},
   "outputs": [],
   "source": [
    "ax = df.groupby(by=[df.index.hour]).boxplot(column=\"temp\", figsize=(15, 5), subplots=False)\n",
    "ax.set_xticklabels(list(range(24)), rotation=0)\n",
    "ax.set_xlabel(\"Uhrzeit\")\n",
    "ax.set_ylabel(\"Temperatur (°C)\")\n",
    "plt.show()"
   ]
  },
  {
   "cell_type": "markdown",
   "id": "indie-above",
   "metadata": {},
   "source": [
    "Schreiben Sie nun Ihre eigenen Visualiserungen"
   ]
  },
  {
   "cell_type": "code",
   "execution_count": null,
   "id": "blank-municipality",
   "metadata": {},
   "outputs": [],
   "source": [
    "# Schreiben Sie hier Ihren Code\n",
    "# Erstellen Sie sich gerne bei Bedarf weitere Zellen mit \"+\" in der oberen Menü-Leiste"
   ]
  },
  {
   "cell_type": "markdown",
   "id": "frank-lighter",
   "metadata": {},
   "source": [
    "<a rel=\"license\" href=\"http://creativecommons.org/licenses/by/4.0/\"><img alt=\"Creative Commons Lizenzvertrag\" style=\"border-width:0; display:inline\" src=\"https://i.creativecommons.org/l/by/4.0/88x31.png\" /></a> &nbsp;&nbsp;&nbsp;&nbsp;Dieses Werk von Marvin Kastner ist lizenziert unter einer <a rel=\"license\" href=\"http://creativecommons.org/licenses/by/4.0/\">Creative Commons Namensnennung 4.0 International Lizenz</a>."
   ]
  }
 ],
 "metadata": {
  "kernelspec": {
   "display_name": "Python 3 (ipykernel)",
   "language": "python",
   "name": "python3"
  },
  "language_info": {
   "codemirror_mode": {
    "name": "ipython",
    "version": 3
   },
   "file_extension": ".py",
   "mimetype": "text/x-python",
   "name": "python",
   "nbconvert_exporter": "python",
   "pygments_lexer": "ipython3",
   "version": "3.10.14"
  }
 },
 "nbformat": 4,
 "nbformat_minor": 5
}
