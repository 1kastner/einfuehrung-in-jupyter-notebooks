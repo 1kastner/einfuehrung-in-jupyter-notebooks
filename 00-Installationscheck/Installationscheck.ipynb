{
 "cells": [
  {
   "cell_type": "markdown",
   "metadata": {},
   "source": [
    "# Installation Check\n",
    "\n",
    "Dieses Jupyter Notebook überprüft, ob man sich in dieser Umgebung befindet und ob die Bibliotheken installiert worden sind."
   ]
  },
  {
   "cell_type": "markdown",
   "metadata": {},
   "source": [
    "## In welcher Conda-Umgebung befinden wir uns?\n",
    "\n",
    "Zur Klärung dieser Frage schauen wir uns die Liste der existierenden Conda-Umgebungen an.\n",
    "Um die folgende Zelle auszuführen, drücken Sie, während die Zelle markiert ist, entweder oben auf `▶` oder drücken Sie gleichzeitig die beiden Tasten Umschalt+Enter."
   ]
  },
  {
   "cell_type": "code",
   "execution_count": null,
   "metadata": {},
   "outputs": [],
   "source": [
    "%conda env list"
   ]
  },
  {
   "cell_type": "markdown",
   "metadata": {},
   "source": [
    "Das Sternchen markiert die aktuell aktive Umgebung.\n",
    "Die aktuell aktive Umgebung sollte bei einer lokalen Installation von Anaconda die Umgebung `intro-jupyter-notebooks` sein.\n",
    "Falls Sie das Jupyter Notebook über binder betrachten, kann der Name abweichen.\n",
    "\n",
    "Falls Sie eine lokale Installation vorgenommen haben und die aktive Umgebung abweicht, haben Sie JupyterLab nicht aus der richtigen Umgebung heraus gestartet.\n",
    "Bitte schließen Sie dann den Tab von JupyterLab.\n",
    "Gehen Sie zurück zur Anleitung und starten Sie JupyterLab über den Anaconda Navigator in der richtigen Umgebung."
   ]
  },
  {
   "cell_type": "markdown",
   "metadata": {},
   "source": [
    "## Sind die wichtigsten Bibliotheken installiert?\n",
    "\n",
    "Bibliotheken fassen häufig benötigte Funktionalitäten zusammen und vereinfachen die Entwicklung in einer Programmiersprache.\n",
    "Alle benötigten Bibliotheken sollten eigentlich bereits automatisch mit dem Erstellen der Umgebung `intro-jupyter-notebooks` erstellt werden."
   ]
  },
  {
   "cell_type": "code",
   "execution_count": null,
   "metadata": {},
   "outputs": [],
   "source": [
    "from importlib import import_module\n",
    "\n",
    "required_libraries = \"\"\"\n",
    "pandas\n",
    "numpy\n",
    "matplotlib\n",
    "\"\"\"\n",
    "\n",
    "for lib in [lib for lib in required_libraries.split(\"\\n\") if lib]:\n",
    "    print(f\"Importing {lib}...\")\n",
    "    lib_module = import_module(lib)\n",
    "    print(f\"{lib} imported in version {lib_module.__version__}\")"
   ]
  },
  {
   "cell_type": "markdown",
   "metadata": {},
   "source": [
    "Falls Sie bei der Installation auf Probleme stoßen sollten, sind die verwendeten Versionen sehr aufschlussreich bei der Fehlerbehebung!"
   ]
  },
  {
   "cell_type": "markdown",
   "metadata": {},
   "source": [
    "<a rel=\"license\" href=\"http://creativecommons.org/licenses/by/4.0/\"><img alt=\"Creative Commons Lizenzvertrag\" style=\"border-width:0; display:inline\" src=\"https://i.creativecommons.org/l/by/4.0/88x31.png\" /></a> &nbsp;&nbsp;&nbsp;&nbsp;Dieses Werk von Marvin Kastner ist lizenziert unter einer <a rel=\"license\" href=\"http://creativecommons.org/licenses/by/4.0/\">Creative Commons Namensnennung 4.0 International Lizenz</a>."
   ]
  }
 ],
 "metadata": {
  "kernelspec": {
   "display_name": "Python 3",
   "language": "python",
   "name": "python3"
  },
  "language_info": {
   "codemirror_mode": {
    "name": "ipython",
    "version": 3
   },
   "file_extension": ".py",
   "mimetype": "text/x-python",
   "name": "python",
   "nbconvert_exporter": "python",
   "pygments_lexer": "ipython3",
   "version": "3.8.8"
  },
  "varInspector": {
   "cols": {
    "lenName": 16,
    "lenType": 16,
    "lenVar": 40
   },
   "kernels_config": {
    "python": {
     "delete_cmd_postfix": "",
     "delete_cmd_prefix": "del ",
     "library": "var_list.py",
     "varRefreshCmd": "print(var_dic_list())"
    },
    "r": {
     "delete_cmd_postfix": ") ",
     "delete_cmd_prefix": "rm(",
     "library": "var_list.r",
     "varRefreshCmd": "cat(var_dic_list()) "
    }
   },
   "types_to_exclude": [
    "module",
    "function",
    "builtin_function_or_method",
    "instance",
    "_Feature"
   ],
   "window_display": false
  }
 },
 "nbformat": 4,
 "nbformat_minor": 4
}
