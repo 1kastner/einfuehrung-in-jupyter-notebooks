{
 "cells": [
  {
   "cell_type": "markdown",
   "id": "presidential-arabic",
   "metadata": {},
   "source": [
    "# Visualisieren von Wetterdaten"
   ]
  },
  {
   "cell_type": "code",
   "execution_count": null,
   "id": "large-feedback",
   "metadata": {},
   "outputs": [],
   "source": [
    "import datetime\n",
    "import pandas as pd\n",
    "import matplotlib.pyplot as plt"
   ]
  },
  {
   "cell_type": "markdown",
   "id": "least-bloom",
   "metadata": {},
   "source": [
    "Die Wetterdaten stammen von https://meteostat.net/de/station/10147 und werden unter der\n",
    "[Creative Commons Attribution-NonCommercial 4.0 International Public License](https://creativecommons.org/licenses/by-nc/4.0/legalcode)\n",
    "verteilt.\n",
    "Zur Interpretation der Daten gibt es eine Erläuterung\n",
    "[von Meteostat](https://dev.meteostat.net/docs/formats.html)."
   ]
  },
  {
   "cell_type": "markdown",
   "id": "distinguished-burke",
   "metadata": {},
   "source": [
    "Lade die CSV-Datei:"
   ]
  },
  {
   "cell_type": "code",
   "execution_count": null,
   "id": "running-scratch",
   "metadata": {},
   "outputs": [],
   "source": [
    "df = pd.read_csv(\"meteostat-10147.csv\", parse_dates=[\"time\", \"time_local\"], index_col=[\"time_local\"])\n",
    "df"
   ]
  },
  {
   "cell_type": "markdown",
   "id": "interstate-dialogue",
   "metadata": {},
   "source": [
    "Plotte den Luftdruck über die Zeit."
   ]
  },
  {
   "cell_type": "code",
   "execution_count": null,
   "id": "important-dollar",
   "metadata": {},
   "outputs": [],
   "source": [
    "df.pres.plot()\n",
    "plt.ylabel(\"Luftdruck (in hPa)\")\n",
    "plt.xlabel(\"Zeit\")\n",
    "plt.show()"
   ]
  },
  {
   "cell_type": "markdown",
   "id": "floating-theater",
   "metadata": {},
   "source": [
    "Plotte die Verteilung des Luftdrucks ohne Berücksichtigung der zeitlichen Komponente als Boxplot."
   ]
  },
  {
   "cell_type": "code",
   "execution_count": null,
   "id": "instructional-sector",
   "metadata": {},
   "outputs": [],
   "source": [
    "df.pres.plot.box()\n",
    "plt.ylabel(\"Luftdruck (in hPa)\")\n",
    "plt.show()"
   ]
  },
  {
   "cell_type": "markdown",
   "id": "frozen-clerk",
   "metadata": {},
   "source": [
    "Plotte die Temperatur über die Zeit."
   ]
  },
  {
   "cell_type": "code",
   "execution_count": null,
   "id": "comparative-reflection",
   "metadata": {},
   "outputs": [],
   "source": [
    "df.temp.plot()\n",
    "plt.ylabel(\"Temperatur (in °C)\")\n",
    "plt.xlabel(\"Zeit\")\n",
    "plt.show()"
   ]
  },
  {
   "cell_type": "markdown",
   "id": "super-leader",
   "metadata": {},
   "source": [
    "Plotte die Verteilung der Temperatur ohne Berücksichtigung der zeitlichen Komponente sowohl als Histogramm als auch als Dichteplot."
   ]
  },
  {
   "cell_type": "code",
   "execution_count": null,
   "id": "parental-manner",
   "metadata": {},
   "outputs": [],
   "source": [
    "ax = df.temp.plot.hist()                         # Lege Variable mit Abbildung an\n",
    "ax2 = df.temp.plot.kde(ax=ax, secondary_y=True)   # Mit `ax=ax` wird die existierende Abbildung erweitert\n",
    "                                                  # Mit `secondary_y=True` wird die zweite Y-Achse rechts gezeichnet.\n",
    "ax.set_ylabel(\"Anzahl\")\n",
    "ax2.set_ylabel(\"Kerndichteschätzung\")\n",
    "plt.show()"
   ]
  },
  {
   "cell_type": "markdown",
   "id": "sonic-influence",
   "metadata": {},
   "source": [
    "Plotte alle Tagesverläufe - je Stunde liegt genau ein Wert vor."
   ]
  },
  {
   "cell_type": "code",
   "execution_count": null,
   "id": "legislative-republic",
   "metadata": {},
   "outputs": [],
   "source": [
    "ax = df.groupby(by=[df.index.hour]).boxplot(column=\"temp\", figsize=(15, 5), subplots=False)\n",
    "ax.set_xticklabels(list(range(24)), rotation=0)\n",
    "ax.set_xlabel(\"Uhrzeit\")\n",
    "ax.set_ylabel(\"Temperatur (°C)\")\n",
    "plt.show()"
   ]
  },
  {
   "cell_type": "markdown",
   "id": "virgin-northern",
   "metadata": {},
   "source": [
    "Schreiben Sie nun Ihre eigenen Visualiserungen"
   ]
  },
  {
   "cell_type": "code",
   "execution_count": null,
   "id": "raised-expression",
   "metadata": {},
   "outputs": [],
   "source": [
    "# Schreiben Sie hier Ihren Code\n",
    "# Erstellen Sie sich gerne bei Bedarf weitere Zellen"
   ]
  }
 ],
 "metadata": {
  "kernelspec": {
   "display_name": "Python 3",
   "language": "python",
   "name": "python3"
  },
  "language_info": {
   "codemirror_mode": {
    "name": "ipython",
    "version": 3
   },
   "file_extension": ".py",
   "mimetype": "text/x-python",
   "name": "python",
   "nbconvert_exporter": "python",
   "pygments_lexer": "ipython3",
   "version": "3.8.8"
  }
 },
 "nbformat": 4,
 "nbformat_minor": 5
}
