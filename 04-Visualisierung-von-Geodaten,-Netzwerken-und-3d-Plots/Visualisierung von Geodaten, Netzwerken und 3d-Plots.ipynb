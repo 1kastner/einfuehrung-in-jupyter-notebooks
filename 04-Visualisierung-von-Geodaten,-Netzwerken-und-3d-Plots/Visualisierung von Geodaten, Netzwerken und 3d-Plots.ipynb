{
 "cells": [
  {
   "cell_type": "markdown",
   "id": "parallel-devices",
   "metadata": {},
   "source": [
    "# Visualisierung von Geodaten, Netzwerken und 3d-Plots\n",
    "\n",
    "Eine Zusammenstellung von verschiedenen Visualisierungen, die ohne zusätzlicher Konfiguration mit Jupyter Notebook möglich sind.\n",
    "Bei der Auswahl kommen viele Anwendungsfälle zu kurz und es gibt viele tolle Alternativen zu den vorgestellten Bibliotheken!"
   ]
  },
  {
   "cell_type": "markdown",
   "id": "relevant-carbon",
   "metadata": {},
   "source": [
    "## Geodaten"
   ]
  },
  {
   "cell_type": "code",
   "execution_count": null,
   "id": "passive-roots",
   "metadata": {},
   "outputs": [],
   "source": [
    "import pandas as pd\n",
    "import json\n",
    "import requests\n",
    "import folium\n",
    "import random"
   ]
  },
  {
   "cell_type": "markdown",
   "id": "acceptable-preview",
   "metadata": {},
   "source": [
    "Folgendes Beispiel stammt von https://python-visualization.github.io/folium/quickstart.html - vielen Dank an die Autoren!"
   ]
  },
  {
   "cell_type": "code",
   "execution_count": null,
   "id": "amazing-sterling",
   "metadata": {},
   "outputs": [],
   "source": [
    "url = (\n",
    "    \"https://raw.githubusercontent.com/python-visualization/folium/master/examples/data\"\n",
    ")\n",
    "state_geo = f\"{url}/us-states.json\"\n",
    "state_unemployment = f\"{url}/US_Unemployment_Oct2012.csv\"\n",
    "state_data = pd.read_csv(state_unemployment)\n",
    "\n",
    "m = folium.Map(location=[48, -102], zoom_start=3)\n",
    "\n",
    "folium.Choropleth(\n",
    "    geo_data=state_geo,\n",
    "    name=\"choropleth\",\n",
    "    data=state_data,\n",
    "    columns=[\"State\", \"Unemployment\"],\n",
    "    key_on=\"feature.id\",\n",
    "    fill_color=\"YlGn\",\n",
    "    fill_opacity=0.7,\n",
    "    line_opacity=0.2,\n",
    "    legend_name=\"Unemployment Rate (%)\",\n",
    ").add_to(m)\n",
    "\n",
    "folium.LayerControl().add_to(m)\n",
    "\n",
    "m"
   ]
  },
  {
   "cell_type": "markdown",
   "id": "satisfied-marketplace",
   "metadata": {},
   "source": [
    "Folgendes Beispiel stammt von https://github.com/python-visualization/folium/blob/master/examples/HeatMapWithTime.ipynb - vielen Dank an die Autoren!"
   ]
  },
  {
   "cell_type": "code",
   "execution_count": null,
   "id": "inappropriate-fever",
   "metadata": {},
   "outputs": [],
   "source": [
    "import folium\n",
    "import folium.plugins as plugins\n",
    "import numpy as np\n",
    "\n",
    "np.random.seed(3141592)\n",
    "initial_data = np.random.normal(size=(100, 2)) * np.array([[1, 1]]) + np.array(\n",
    "    [[48, 5]]\n",
    ")\n",
    "\n",
    "move_data = np.random.normal(size=(100, 2)) * 0.01\n",
    "\n",
    "data = [(initial_data + move_data * i).tolist() for i in range(100)]\n",
    "\n",
    "weight = 1  # default value\n",
    "for time_entry in data:\n",
    "    for row in time_entry:\n",
    "        row.append(weight)\n",
    "\n",
    "m = folium.Map([48.0, 5.0], tiles=\"stamentoner\", zoom_start=6)\n",
    "hm = plugins.HeatMapWithTime(data)\n",
    "hm.add_to(m)\n",
    "\n",
    "m"
   ]
  },
  {
   "cell_type": "markdown",
   "id": "formal-vector",
   "metadata": {},
   "source": [
    "Und eine Fortsetzung des vorherigen Beispiels:"
   ]
  },
  {
   "cell_type": "code",
   "execution_count": null,
   "id": "aboriginal-question",
   "metadata": {},
   "outputs": [],
   "source": [
    "from datetime import datetime, timedelta\n",
    "\n",
    "time_index = [\n",
    "    (datetime.now() + k * timedelta(1)).strftime(\"%Y-%m-%d\") for k in range(len(data))\n",
    "]\n",
    "\n",
    "\n",
    "m = folium.Map([48.0, 5.0], tiles=\"stamentoner\", zoom_start=6)\n",
    "\n",
    "hm = plugins.HeatMapWithTime(data, index=time_index, auto_play=True, max_opacity=0.3)\n",
    "\n",
    "hm.add_to(m)\n",
    "\n",
    "m"
   ]
  },
  {
   "cell_type": "markdown",
   "id": "japanese-manchester",
   "metadata": {},
   "source": [
    "## Netzwerke\n",
    "\n",
    "Netzwerke können als Graphen mit Knoten und Kanten repräsentiert werden.\n",
    "Diese können auch in Python erstellt und im Jupyter Notebook dann visualisiert werden."
   ]
  },
  {
   "cell_type": "markdown",
   "id": "confidential-eugene",
   "metadata": {},
   "source": [
    "Installiere die benötigte Bibliothek on-the-fly"
   ]
  },
  {
   "cell_type": "code",
   "execution_count": null,
   "id": "british-productivity",
   "metadata": {},
   "outputs": [],
   "source": [
    "import networkx as nx\n",
    "import ipycytoscape"
   ]
  },
  {
   "cell_type": "markdown",
   "id": "collectible-exhaust",
   "metadata": {},
   "source": [
    "Folgendes Beispiel stammt von https://github.com/QuantStack/ipycytoscape/tree/master/examples - vielen Dank an die Autoren!"
   ]
  },
  {
   "cell_type": "code",
   "execution_count": null,
   "id": "positive-compensation",
   "metadata": {},
   "outputs": [],
   "source": [
    "G = nx.complete_graph(4)\n",
    "cyto = ipycytoscape .CytoscapeWidget()\n",
    "cyto.graph.add_graph_from_networkx(G)\n",
    "cyto"
   ]
  },
  {
   "cell_type": "markdown",
   "id": "false-jacob",
   "metadata": {},
   "source": [
    "Und eine Fortsetzung des vorherigen Beispiels."
   ]
  },
  {
   "cell_type": "code",
   "execution_count": null,
   "id": "english-carry",
   "metadata": {},
   "outputs": [],
   "source": [
    "G = nx.complete_graph(6)\n",
    "for s, t, data in G.edges(data=True):\n",
    "    if random.random() > .5:\n",
    "        G[s][t]['classes'] = 'directed'\n",
    "\n",
    "mixed = ipycytoscape.CytoscapeWidget()\n",
    "mixed.graph.add_graph_from_networkx(G)\n",
    "mixed"
   ]
  },
  {
   "cell_type": "markdown",
   "id": "working-rebecca",
   "metadata": {},
   "source": [
    "## 3d-Plots"
   ]
  },
  {
   "cell_type": "markdown",
   "id": "heavy-edmonton",
   "metadata": {},
   "source": [
    "Folgendes Beispiel stammt von https://matplotlib.org/3.1.1/gallery/mplot3d/surface3d.html - vielen Dank an die Autoren!"
   ]
  },
  {
   "cell_type": "code",
   "execution_count": null,
   "id": "damaged-stevens",
   "metadata": {},
   "outputs": [],
   "source": [
    "import matplotlib.pyplot as plt\n",
    "from matplotlib import cm\n",
    "from matplotlib.ticker import LinearLocator, FormatStrFormatter\n",
    "import numpy as np\n",
    "\n",
    "fig = plt.figure(figsize=[10, 10])\n",
    "ax = fig.gca(projection='3d')\n",
    "\n",
    "# Make data.\n",
    "X = np.arange(-5, 5, 0.25)\n",
    "Y = np.arange(-5, 5, 0.25)\n",
    "X, Y = np.meshgrid(X, Y)\n",
    "R = np.sqrt(X**2 + Y**2)\n",
    "Z = np.sin(R)\n",
    "\n",
    "# Plot the surface.\n",
    "surf = ax.plot_surface(X, Y, Z, cmap=cm.coolwarm,\n",
    "                       linewidth=0, antialiased=False)\n",
    "\n",
    "# Customize the z axis.\n",
    "ax.set_zlim(-1.01, 1.01)\n",
    "ax.zaxis.set_major_locator(LinearLocator(10))\n",
    "ax.zaxis.set_major_formatter(FormatStrFormatter('%.02f'))\n",
    "\n",
    "# Add a color bar which maps values to colors.\n",
    "fig.colorbar(surf, shrink=0.5, aspect=5)\n",
    "\n",
    "plt.show()"
   ]
  },
  {
   "cell_type": "code",
   "execution_count": null,
   "id": "suspended-march",
   "metadata": {},
   "outputs": [],
   "source": [
    "fig = plt.figure(figsize=[10, 10])\n",
    "ax = fig.gca(projection='3d')\n",
    "\n",
    "# Data for a three-dimensional line\n",
    "zline = np.linspace(0, 15, 1000)\n",
    "xline = np.sin(zline)\n",
    "yline = np.cos(zline)\n",
    "ax.plot3D(xline, yline, zline, 'gray')\n",
    "\n",
    "# Data for three-dimensional scattered points\n",
    "zdata = 15 * np.random.random(100)\n",
    "xdata = np.sin(zdata) + 0.1 * np.random.randn(100)\n",
    "ydata = np.cos(zdata) + 0.1 * np.random.randn(100)\n",
    "ax.scatter3D(xdata, ydata, zdata, c=zdata, cmap='Greens')\n",
    "plt.show()"
   ]
  },
  {
   "cell_type": "markdown",
   "id": "qualified-profession",
   "metadata": {},
   "source": [
    "## Zusatz: Benutzeroberfläche in Jupyter Notebook integrieren"
   ]
  },
  {
   "cell_type": "code",
   "execution_count": null,
   "id": "express-uganda",
   "metadata": {},
   "outputs": [],
   "source": [
    "from ipywidgets import ColorPicker, link, HBox\n",
    "from ipycanvas import RoughCanvas, hold_canvas\n",
    "\n",
    "width = 1000\n",
    "height = 1000"
   ]
  },
  {
   "cell_type": "markdown",
   "id": "domestic-estonia",
   "metadata": {},
   "source": [
    "Das folgende Beispiel stammt von https://github.com/martinRenou/ipycanvas/blob/master/examples/ - vielen Dank an die Autoren!"
   ]
  },
  {
   "cell_type": "code",
   "execution_count": null,
   "id": "weird-metro",
   "metadata": {},
   "outputs": [],
   "source": [
    "canvas = RoughCanvas(width=width, height=height)\n",
    "\n",
    "drawing = False\n",
    "position = None\n",
    "shape = []\n",
    "\n",
    "\n",
    "def on_mouse_down(x, y):\n",
    "    global drawing\n",
    "    global position\n",
    "    global shape\n",
    "\n",
    "    drawing = True\n",
    "    position = (x, y)\n",
    "    shape = [position]\n",
    "\n",
    "\n",
    "def on_mouse_move(x, y):\n",
    "    global drawing\n",
    "    global position\n",
    "    global shape\n",
    "\n",
    "    if not drawing:\n",
    "        return\n",
    "\n",
    "    with hold_canvas(canvas):\n",
    "        canvas.stroke_line(position[0], position[1], x, y)\n",
    "\n",
    "        position = (x, y)\n",
    "\n",
    "    shape.append(position)\n",
    "\n",
    "\n",
    "def on_mouse_up(x, y):\n",
    "    global drawing\n",
    "    global position\n",
    "    global shape\n",
    "\n",
    "    drawing = False\n",
    "\n",
    "    with hold_canvas(canvas):\n",
    "        canvas.stroke_line(position[0], position[1], x, y)\n",
    "        canvas.fill_polygon(shape)\n",
    "\n",
    "    shape = []\n",
    "\n",
    "\n",
    "canvas.on_mouse_down(on_mouse_down)\n",
    "canvas.on_mouse_move(on_mouse_move)\n",
    "canvas.on_mouse_up(on_mouse_up)\n",
    "\n",
    "canvas.stroke_style = '#749cb8'\n",
    "\n",
    "picker = ColorPicker(description='Color:', value='#749cb8')\n",
    "\n",
    "link((picker, 'value'), (canvas, 'stroke_style'))\n",
    "link((picker, 'value'), (canvas, 'fill_style'))\n",
    "\n",
    "HBox((canvas, picker))"
   ]
  }
 ],
 "metadata": {
  "kernelspec": {
   "display_name": "Python [conda env:intro-jupyter-notebooks] *",
   "language": "python",
   "name": "conda-env-intro-jupyter-notebooks-py"
  },
  "language_info": {
   "codemirror_mode": {
    "name": "ipython",
    "version": 3
   },
   "file_extension": ".py",
   "mimetype": "text/x-python",
   "name": "python",
   "nbconvert_exporter": "python",
   "pygments_lexer": "ipython3",
   "version": "3.8.8"
  }
 },
 "nbformat": 4,
 "nbformat_minor": 5
}
