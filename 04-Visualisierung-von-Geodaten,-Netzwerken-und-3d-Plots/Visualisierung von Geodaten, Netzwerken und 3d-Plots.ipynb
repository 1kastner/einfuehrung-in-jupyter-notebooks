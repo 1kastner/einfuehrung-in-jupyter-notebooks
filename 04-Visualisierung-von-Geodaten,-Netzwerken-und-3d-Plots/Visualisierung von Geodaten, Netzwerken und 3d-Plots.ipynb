{
 "cells": [
  {
   "cell_type": "markdown",
   "id": "copyrighted-disney",
   "metadata": {},
   "source": [
    "# Visualisierung von Geodaten, Netzwerken und 3d-Plots\n",
    "\n",
    "Eine Zusammenstellung von verschiedenen Visualisierungen, die ohne zusätzlicher Konfiguration mit Jupyter Notebook möglich sind.\n",
    "Bei der Auswahl kommen viele Anwendungsfälle zu kurz und es gibt viele tolle Alternativen zu den vorgestellten Bibliotheken!"
   ]
  },
  {
   "cell_type": "markdown",
   "id": "comprehensive-doctor",
   "metadata": {},
   "source": [
    "## Geodaten"
   ]
  },
  {
   "cell_type": "code",
   "execution_count": null,
   "id": "medium-gross",
   "metadata": {},
   "outputs": [],
   "source": [
    "import pandas as pd\n",
    "import json\n",
    "import requests\n",
    "import folium\n",
    "import random"
   ]
  },
  {
   "cell_type": "markdown",
   "id": "steady-chemical",
   "metadata": {},
   "source": [
    "Folgendes Beispiel stammt von https://python-visualization.github.io/folium/quickstart.html - vielen Dank an die Autoren!"
   ]
  },
  {
   "cell_type": "code",
   "execution_count": null,
   "id": "exclusive-freedom",
   "metadata": {},
   "outputs": [],
   "source": [
    "url = (\n",
    "    \"https://raw.githubusercontent.com/python-visualization/folium/master/examples/data\"\n",
    ")\n",
    "state_geo = f\"{url}/us-states.json\"\n",
    "state_unemployment = f\"{url}/US_Unemployment_Oct2012.csv\"\n",
    "state_data = pd.read_csv(state_unemployment)\n",
    "\n",
    "m = folium.Map(location=[48, -102], zoom_start=3)\n",
    "\n",
    "folium.Choropleth(\n",
    "    geo_data=state_geo,\n",
    "    name=\"choropleth\",\n",
    "    data=state_data,\n",
    "    columns=[\"State\", \"Unemployment\"],\n",
    "    key_on=\"feature.id\",\n",
    "    fill_color=\"YlGn\",\n",
    "    fill_opacity=0.7,\n",
    "    line_opacity=0.2,\n",
    "    legend_name=\"Unemployment Rate (%)\",\n",
    ").add_to(m)\n",
    "\n",
    "folium.LayerControl().add_to(m)\n",
    "\n",
    "m"
   ]
  },
  {
   "cell_type": "markdown",
   "id": "built-recipient",
   "metadata": {},
   "source": [
    "Folgendes Beispiel stammt von https://github.com/python-visualization/folium/blob/master/examples/HeatMapWithTime.ipynb - vielen Dank an die Autoren!"
   ]
  },
  {
   "cell_type": "code",
   "execution_count": null,
   "id": "artificial-germany",
   "metadata": {},
   "outputs": [],
   "source": [
    "import folium\n",
    "import folium.plugins as plugins\n",
    "import numpy as np\n",
    "\n",
    "np.random.seed(3141592)\n",
    "initial_data = np.random.normal(size=(100, 2)) * np.array([[1, 1]]) + np.array(\n",
    "    [[48, 5]]\n",
    ")\n",
    "\n",
    "move_data = np.random.normal(size=(100, 2)) * 0.01\n",
    "\n",
    "data = [(initial_data + move_data * i).tolist() for i in range(100)]\n",
    "\n",
    "weight = 1  # default value\n",
    "for time_entry in data:\n",
    "    for row in time_entry:\n",
    "        row.append(weight)\n",
    "\n",
    "m = folium.Map([48.0, 5.0], tiles=\"stamentoner\", zoom_start=6)\n",
    "hm = plugins.HeatMapWithTime(data)\n",
    "hm.add_to(m)\n",
    "\n",
    "m"
   ]
  },
  {
   "cell_type": "markdown",
   "id": "impossible-comfort",
   "metadata": {},
   "source": [
    "Und eine Fortsetzung des vorherigen Beispiels:"
   ]
  },
  {
   "cell_type": "code",
   "execution_count": null,
   "id": "italic-purse",
   "metadata": {},
   "outputs": [],
   "source": [
    "from datetime import datetime, timedelta\n",
    "\n",
    "time_index = [\n",
    "    (datetime.now() + k * timedelta(1)).strftime(\"%Y-%m-%d\") for k in range(len(data))\n",
    "]\n",
    "\n",
    "\n",
    "m = folium.Map([48.0, 5.0], tiles=\"stamentoner\", zoom_start=6)\n",
    "\n",
    "hm = plugins.HeatMapWithTime(data, index=time_index, auto_play=True, max_opacity=0.3)\n",
    "\n",
    "hm.add_to(m)\n",
    "\n",
    "m"
   ]
  },
  {
   "cell_type": "markdown",
   "id": "australian-kitchen",
   "metadata": {},
   "source": [
    "## Netzwerke\n",
    "\n",
    "Netzwerke können als Graphen mit Knoten und Kanten repräsentiert werden.\n",
    "Diese können auch in Python erstellt und im Jupyter Notebook dann visualisiert werden."
   ]
  },
  {
   "cell_type": "markdown",
   "id": "developed-salem",
   "metadata": {},
   "source": [
    "Installiere die benötigte Bibliothek on-the-fly"
   ]
  },
  {
   "cell_type": "code",
   "execution_count": null,
   "id": "digital-stylus",
   "metadata": {},
   "outputs": [],
   "source": [
    "import networkx as nx\n",
    "import ipycytoscape"
   ]
  },
  {
   "cell_type": "code",
   "execution_count": null,
   "id": "former-martin",
   "metadata": {},
   "outputs": [],
   "source": [
    "G = nx.complete_graph(4)\n",
    "cyto = ipycytoscape .CytoscapeWidget()\n",
    "cyto.graph.add_graph_from_networkx(G)\n",
    "cyto"
   ]
  },
  {
   "cell_type": "code",
   "execution_count": null,
   "id": "collect-bandwidth",
   "metadata": {},
   "outputs": [],
   "source": [
    "G = nx.complete_graph(6)\n",
    "for s, t, data in G.edges(data=True):\n",
    "    if random.random() > .5:\n",
    "        G[s][t]['classes'] = 'directed'\n",
    "\n",
    "mixed = ipycytoscape.CytoscapeWidget()\n",
    "mixed.graph.add_graph_from_networkx(G)\n",
    "mixed"
   ]
  },
  {
   "cell_type": "markdown",
   "id": "neural-vertex",
   "metadata": {},
   "source": [
    "## 3d-Plots"
   ]
  },
  {
   "cell_type": "code",
   "execution_count": null,
   "id": "willing-tissue",
   "metadata": {},
   "outputs": [],
   "source": [
    "#tbd"
   ]
  },
  {
   "cell_type": "code",
   "execution_count": null,
   "id": "discrete-rolling",
   "metadata": {},
   "outputs": [],
   "source": []
  },
  {
   "cell_type": "code",
   "execution_count": null,
   "id": "sixth-floating",
   "metadata": {},
   "outputs": [],
   "source": []
  },
  {
   "cell_type": "code",
   "execution_count": null,
   "id": "consolidated-calendar",
   "metadata": {},
   "outputs": [],
   "source": []
  }
 ],
 "metadata": {
  "kernelspec": {
   "display_name": "Python [conda env:intro-jupyter-notebooks] *",
   "language": "python",
   "name": "conda-env-intro-jupyter-notebooks-py"
  },
  "language_info": {
   "codemirror_mode": {
    "name": "ipython",
    "version": 3
   },
   "file_extension": ".py",
   "mimetype": "text/x-python",
   "name": "python",
   "nbconvert_exporter": "python",
   "pygments_lexer": "ipython3",
   "version": "3.8.8"
  }
 },
 "nbformat": 4,
 "nbformat_minor": 5
}
