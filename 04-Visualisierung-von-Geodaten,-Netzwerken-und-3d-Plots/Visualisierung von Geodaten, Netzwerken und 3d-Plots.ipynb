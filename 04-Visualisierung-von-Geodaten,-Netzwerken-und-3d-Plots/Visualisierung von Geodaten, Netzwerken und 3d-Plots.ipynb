{
 "cells": [
  {
   "cell_type": "markdown",
   "id": "metric-start",
   "metadata": {},
   "source": [
    "# Visualisierung von Geodaten, Netzwerken und 3d-Plots\n",
    "\n",
    "Eine Zusammenstellung von verschiedenen Visualisierungen, die ohne zusätzlicher Konfiguration mit Jupyter Notebook möglich sind.\n",
    "Bei der Auswahl kommen viele Anwendungsfälle zu kurz und es gibt viele tolle Alternativen zu den vorgestellten Bibliotheken!"
   ]
  },
  {
   "cell_type": "markdown",
   "id": "listed-probe",
   "metadata": {},
   "source": [
    "## Geodaten"
   ]
  },
  {
   "cell_type": "code",
   "execution_count": null,
   "id": "premium-delivery",
   "metadata": {},
   "outputs": [],
   "source": [
    "import pandas as pd\n",
    "import json\n",
    "import requests\n",
    "import folium\n",
    "import random"
   ]
  },
  {
   "cell_type": "markdown",
   "id": "public-subscription",
   "metadata": {},
   "source": [
    "Folgendes Beispiel stammt von https://python-visualization.github.io/folium/quickstart.html - vielen Dank an die Autoren!"
   ]
  },
  {
   "cell_type": "code",
   "execution_count": null,
   "id": "aggressive-racing",
   "metadata": {},
   "outputs": [],
   "source": [
    "url = (\n",
    "    \"https://raw.githubusercontent.com/python-visualization/folium/master/examples/data\"\n",
    ")\n",
    "state_geo = f\"{url}/us-states.json\"\n",
    "state_unemployment = f\"{url}/US_Unemployment_Oct2012.csv\"\n",
    "state_data = pd.read_csv(state_unemployment)\n",
    "\n",
    "m = folium.Map(location=[48, -102], zoom_start=3)\n",
    "\n",
    "folium.Choropleth(\n",
    "    geo_data=state_geo,\n",
    "    name=\"choropleth\",\n",
    "    data=state_data,\n",
    "    columns=[\"State\", \"Unemployment\"],\n",
    "    key_on=\"feature.id\",\n",
    "    fill_color=\"YlGn\",\n",
    "    fill_opacity=0.7,\n",
    "    line_opacity=0.2,\n",
    "    legend_name=\"Unemployment Rate (%)\",\n",
    ").add_to(m)\n",
    "\n",
    "folium.LayerControl().add_to(m)\n",
    "\n",
    "m"
   ]
  },
  {
   "cell_type": "markdown",
   "id": "lonely-milan",
   "metadata": {},
   "source": [
    "Folgendes Beispiel stammt von https://github.com/python-visualization/folium/blob/master/examples/HeatMapWithTime.ipynb - vielen Dank an die Autoren!"
   ]
  },
  {
   "cell_type": "code",
   "execution_count": null,
   "id": "extraordinary-motor",
   "metadata": {},
   "outputs": [],
   "source": [
    "import folium\n",
    "import folium.plugins as plugins\n",
    "import numpy as np\n",
    "\n",
    "np.random.seed(3141592)\n",
    "initial_data = np.random.normal(size=(100, 2)) * np.array([[1, 1]]) + np.array(\n",
    "    [[48, 5]]\n",
    ")\n",
    "\n",
    "move_data = np.random.normal(size=(100, 2)) * 0.01\n",
    "\n",
    "data = [(initial_data + move_data * i).tolist() for i in range(100)]\n",
    "\n",
    "weight = 1  # default value\n",
    "for time_entry in data:\n",
    "    for row in time_entry:\n",
    "        row.append(weight)\n",
    "\n",
    "m = folium.Map([48.0, 5.0], tiles=\"stamentoner\", zoom_start=6)\n",
    "hm = plugins.HeatMapWithTime(data)\n",
    "hm.add_to(m)\n",
    "\n",
    "m"
   ]
  },
  {
   "cell_type": "markdown",
   "id": "laden-fraud",
   "metadata": {},
   "source": [
    "Und eine Fortsetzung des vorherigen Beispiels:"
   ]
  },
  {
   "cell_type": "code",
   "execution_count": null,
   "id": "saved-dutch",
   "metadata": {},
   "outputs": [],
   "source": [
    "from datetime import datetime, timedelta\n",
    "\n",
    "time_index = [\n",
    "    (datetime.now() + k * timedelta(1)).strftime(\"%Y-%m-%d\") for k in range(len(data))\n",
    "]\n",
    "\n",
    "\n",
    "m = folium.Map([48.0, 5.0], tiles=\"stamentoner\", zoom_start=6)\n",
    "\n",
    "hm = plugins.HeatMapWithTime(data, index=time_index, auto_play=True, max_opacity=0.3)\n",
    "\n",
    "hm.add_to(m)\n",
    "\n",
    "m"
   ]
  },
  {
   "cell_type": "markdown",
   "id": "lovely-envelope",
   "metadata": {},
   "source": [
    "## Netzwerke\n",
    "\n",
    "Netzwerke können als Graphen mit Knoten und Kanten repräsentiert werden.\n",
    "Diese können auch in Python erstellt und im Jupyter Notebook dann visualisiert werden."
   ]
  },
  {
   "cell_type": "code",
   "execution_count": null,
   "id": "olive-china",
   "metadata": {},
   "outputs": [],
   "source": [
    "import networkx as nx\n",
    "import ipycytoscape"
   ]
  },
  {
   "cell_type": "markdown",
   "id": "light-calgary",
   "metadata": {},
   "source": [
    "Folgendes Beispiel stammt von https://github.com/QuantStack/ipycytoscape/tree/master/examples - vielen Dank an die Autoren!"
   ]
  },
  {
   "cell_type": "code",
   "execution_count": null,
   "id": "romance-therapist",
   "metadata": {},
   "outputs": [],
   "source": [
    "G = nx.complete_graph(4)\n",
    "cyto = ipycytoscape .CytoscapeWidget()\n",
    "cyto.graph.add_graph_from_networkx(G)\n",
    "cyto"
   ]
  },
  {
   "cell_type": "markdown",
   "id": "atlantic-virtue",
   "metadata": {},
   "source": [
    "Und eine Fortsetzung des vorherigen Beispiels."
   ]
  },
  {
   "cell_type": "code",
   "execution_count": null,
   "id": "ongoing-comparative",
   "metadata": {},
   "outputs": [],
   "source": [
    "G = nx.complete_graph(6)\n",
    "for s, t, data in G.edges(data=True):\n",
    "    if random.random() > .5:\n",
    "        G[s][t]['classes'] = 'directed'\n",
    "\n",
    "mixed = ipycytoscape.CytoscapeWidget()\n",
    "mixed.graph.add_graph_from_networkx(G)\n",
    "mixed"
   ]
  },
  {
   "cell_type": "markdown",
   "id": "intimate-stadium",
   "metadata": {},
   "source": [
    "## 3d-Plots"
   ]
  },
  {
   "cell_type": "markdown",
   "id": "regulation-strategy",
   "metadata": {},
   "source": [
    "Folgendes Beispiel stammt von https://matplotlib.org/3.1.1/gallery/mplot3d/surface3d.html - vielen Dank an die Autoren!"
   ]
  },
  {
   "cell_type": "code",
   "execution_count": null,
   "id": "universal-regard",
   "metadata": {},
   "outputs": [],
   "source": [
    "import matplotlib.pyplot as plt\n",
    "from matplotlib import cm\n",
    "from matplotlib.ticker import LinearLocator, FormatStrFormatter\n",
    "import numpy as np\n",
    "\n",
    "fig = plt.figure(figsize=[10, 10])\n",
    "ax = fig.gca(projection='3d')\n",
    "\n",
    "# Make data.\n",
    "X = np.arange(-5, 5, 0.25)\n",
    "Y = np.arange(-5, 5, 0.25)\n",
    "X, Y = np.meshgrid(X, Y)\n",
    "R = np.sqrt(X**2 + Y**2)\n",
    "Z = np.sin(R)\n",
    "\n",
    "# Plot the surface.\n",
    "surf = ax.plot_surface(X, Y, Z, cmap=cm.coolwarm,\n",
    "                       linewidth=0, antialiased=False)\n",
    "\n",
    "# Customize the z axis.\n",
    "ax.set_zlim(-1.01, 1.01)\n",
    "ax.zaxis.set_major_locator(LinearLocator(10))\n",
    "ax.zaxis.set_major_formatter(FormatStrFormatter('%.02f'))\n",
    "\n",
    "# Add a color bar which maps values to colors.\n",
    "fig.colorbar(surf, shrink=0.5, aspect=5)\n",
    "\n",
    "plt.show()"
   ]
  },
  {
   "cell_type": "code",
   "execution_count": null,
   "id": "applied-naples",
   "metadata": {},
   "outputs": [],
   "source": [
    "fig = plt.figure(figsize=[10, 10])\n",
    "ax = fig.gca(projection='3d')\n",
    "\n",
    "# Data for a three-dimensional line\n",
    "zline = np.linspace(0, 15, 1000)\n",
    "xline = np.sin(zline)\n",
    "yline = np.cos(zline)\n",
    "ax.plot3D(xline, yline, zline, 'gray')\n",
    "\n",
    "# Data for three-dimensional scattered points\n",
    "zdata = 15 * np.random.random(100)\n",
    "xdata = np.sin(zdata) + 0.1 * np.random.randn(100)\n",
    "ydata = np.cos(zdata) + 0.1 * np.random.randn(100)\n",
    "ax.scatter3D(xdata, ydata, zdata, c=zdata, cmap='Greens')\n",
    "plt.show()"
   ]
  },
  {
   "cell_type": "markdown",
   "id": "derived-notice",
   "metadata": {},
   "source": [
    "## Zusatz: Benutzeroberfläche in Jupyter Notebook integrieren"
   ]
  },
  {
   "cell_type": "code",
   "execution_count": null,
   "id": "recorded-brand",
   "metadata": {},
   "outputs": [],
   "source": [
    "import ipywidgets as widgets"
   ]
  },
  {
   "cell_type": "code",
   "execution_count": null,
   "id": "incorrect-onion",
   "metadata": {},
   "outputs": [],
   "source": [
    "a = widgets.IntSlider(description=\"Eingabe 1\", continuous_update=False)\n",
    "b = widgets.IntText(description=\"Eingabe 2\", continuous_update=False)\n",
    "\n",
    "widgets.link((a, 'value'), (b, 'value'))\n",
    "widgets.VBox([a,b])"
   ]
  },
  {
   "cell_type": "code",
   "execution_count": null,
   "id": "oriental-schedule",
   "metadata": {},
   "outputs": [],
   "source": [
    "from ipywidgets import ColorPicker, link, HBox\n",
    "from ipycanvas import RoughCanvas, hold_canvas"
   ]
  },
  {
   "cell_type": "markdown",
   "id": "global-development",
   "metadata": {},
   "source": [
    "Das folgende Beispiel stammt von https://github.com/martinRenou/ipycanvas/blob/master/examples/ - vielen Dank an die Autoren!"
   ]
  },
  {
   "cell_type": "code",
   "execution_count": null,
   "id": "metric-china",
   "metadata": {},
   "outputs": [],
   "source": [
    "width = 1000\n",
    "height = 1000\n",
    "\n",
    "hand_drawing_canvas = RoughCanvas(width=width, height=height)\n",
    "\n",
    "drawing = False\n",
    "position = None\n",
    "shape = []\n",
    "\n",
    "\n",
    "def on_mouse_down(x, y):\n",
    "    global drawing\n",
    "    global position\n",
    "    global shape\n",
    "\n",
    "    drawing = True\n",
    "    position = (x, y)\n",
    "    shape = [position]\n",
    "\n",
    "\n",
    "def on_mouse_move(x, y):\n",
    "    global drawing\n",
    "    global position\n",
    "    global shape\n",
    "\n",
    "    if not drawing:\n",
    "        return\n",
    "\n",
    "    with hold_canvas(hand_drawing_canvas):\n",
    "        hand_drawing_canvas.stroke_line(position[0], position[1], x, y)\n",
    "\n",
    "        position = (x, y)\n",
    "\n",
    "    shape.append(position)\n",
    "\n",
    "\n",
    "def on_mouse_up(x, y):\n",
    "    global drawing\n",
    "    global position\n",
    "    global shape\n",
    "\n",
    "    drawing = False\n",
    "\n",
    "    with hold_canvas(hand_drawing_canvas):\n",
    "        hand_drawing_canvas.stroke_line(position[0], position[1], x, y)\n",
    "        hand_drawing_canvas.fill_polygon(shape)\n",
    "\n",
    "    shape = []\n",
    "\n",
    "\n",
    "hand_drawing_canvas.on_mouse_down(on_mouse_down)\n",
    "hand_drawing_canvas.on_mouse_move(on_mouse_move)\n",
    "hand_drawing_canvas.on_mouse_up(on_mouse_up)\n",
    "\n",
    "hand_drawing_canvas.stroke_style = '#749cb8'\n",
    "\n",
    "picker = ColorPicker(description='Color:', value='#749cb8')\n",
    "\n",
    "link((picker, 'value'), (hand_drawing_canvas, 'stroke_style'))\n",
    "link((picker, 'value'), (hand_drawing_canvas, 'fill_style'))\n",
    "\n",
    "HBox((hand_drawing_canvas, picker))"
   ]
  },
  {
   "cell_type": "markdown",
   "id": "dominant-sauce",
   "metadata": {},
   "source": [
    "## Zusatz: Animationen zeichnen"
   ]
  },
  {
   "cell_type": "code",
   "execution_count": null,
   "id": "compliant-auction",
   "metadata": {},
   "outputs": [],
   "source": [
    "from time import sleep, time\n",
    "import numpy as np\n",
    "from ipycanvas import Canvas, hold_canvas"
   ]
  },
  {
   "cell_type": "code",
   "execution_count": null,
   "id": "continuing-phone",
   "metadata": {},
   "outputs": [],
   "source": [
    "n_particles = 100_000\n",
    "x = np.array(np.random.rayleigh(250, n_particles), dtype=np.int32)\n",
    "y = np.array(np.random.rayleigh(250, n_particles), dtype=np.int32)\n",
    "size = np.random.randint(1, 3, n_particles)\n",
    "speed_x = np.random.randint(-40, 40, n_particles)\n",
    "speed_y = np.random.randint(-40, 40, n_particles)\n",
    "\n",
    "current_time = time()\n",
    "\n",
    "\n",
    "def move_particles(x, speed_x, y, speed_y):\n",
    "    global current_time\n",
    "\n",
    "    elapsed_time = time() - current_time\n",
    "\n",
    "    x += np.array(speed_x * elapsed_time, dtype=np.int32)\n",
    "    y += np.array(speed_y * elapsed_time, dtype=np.int32)\n",
    "\n",
    "    current_time = time()"
   ]
  },
  {
   "cell_type": "code",
   "execution_count": null,
   "id": "entire-effect",
   "metadata": {},
   "outputs": [],
   "source": [
    "particle_canvas = Canvas(width=800, height=500)\n",
    "\n",
    "display(particle_canvas)\n",
    "\n",
    "particle_canvas.fill_style = 'green'\n",
    "\n",
    "for _ in range(75):\n",
    "    move_particles(x, speed_x, y, speed_y)\n",
    "\n",
    "    with hold_canvas(particle_canvas):\n",
    "        particle_canvas.clear()\n",
    "        particle_canvas.fill_rects(x, y, size)\n",
    "\n",
    "    sleep(0.08)"
   ]
  }
 ],
 "metadata": {
  "kernelspec": {
   "display_name": "Python [conda env:intro-jupyter-notebooks] *",
   "language": "python",
   "name": "conda-env-intro-jupyter-notebooks-py"
  },
  "language_info": {
   "codemirror_mode": {
    "name": "ipython",
    "version": 3
   },
   "file_extension": ".py",
   "mimetype": "text/x-python",
   "name": "python",
   "nbconvert_exporter": "python",
   "pygments_lexer": "ipython3",
   "version": "3.8.8"
  }
 },
 "nbformat": 4,
 "nbformat_minor": 5
}
